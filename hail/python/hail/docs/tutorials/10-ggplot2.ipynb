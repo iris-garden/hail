{
 "cells": [
  {
   "cell_type": "markdown",
   "id": "2bf2bf75",
   "metadata": {},
   "source": [
    "# Plotting with Hail\n",
    "\n",
    "The [`hail.ggplot2`](https://hail.is/docs/0.2/ggplot2/index.html) module provides a set of functions for aggregating and plotting your data. The module attempts to mimic the API of [R's `ggplot2` library](https://ggplot2.tidyverse.org) as closely as possible. The module displays plots visually using the [Vega-Altair](https://altair-viz.github.io/) library.\n",
    "\n",
    "On this page, you'll find an explanation of the basics of the module, as well as examples of how to create some commonly-used types of plot.\n",
    "\n",
    "In order to provide example plots, we'll need example data. The following code uses [`hail.utils.range_table`](https://hail.is/docs/0.2/utils/index.html#hail.utils.range_table) to generate a table with a single column containing the index of each row:"
   ]
  },
  {
   "cell_type": "code",
   "execution_count": null,
   "id": "ca1ba550",
   "metadata": {},
   "outputs": [],
   "source": [
    "import hail as hl\n",
    "data = hl.utils.range_table(100)\n",
    "data.show()"
   ]
  },
  {
   "cell_type": "markdown",
   "id": "860d0a3a",
   "metadata": {},
   "source": [
    "## Plot Objects\n",
    "\n",
    "Like R's `ggplot2`, `hail.ggplot2` bases its approach to plotting on a [layered grammar of graphics](https://ggplot2-book.org/introduction.html#what-is-the-grammar-of-graphics). This means that plots are built up from the data in composable layers, which allows you to add or remove different plot elements easily.\n",
    "\n",
    "We can create a basic plot object by calling the [`ggplot`](https://hail.is/docs/0.2/ggplot2/index.html#hail.ggplot2.ggplot) function on our data:"
   ]
  },
  {
   "cell_type": "code",
   "execution_count": null,
   "id": "45ac0248",
   "metadata": {},
   "outputs": [],
   "source": [
    "from hail.ggplot2 import ggplot\n",
    "\n",
    "plot = ggplot(data)\n",
    "print(plot)"
   ]
  },
  {
   "cell_type": "markdown",
   "id": "b584643d",
   "metadata": {},
   "source": [
    "## Aesthetic Mappings\n",
    "\n",
    "To create a plot, we'll need to decide what values will be mapped to its x-axis. Mapping values to an axis in `hail.ggplot2` is done using an aesthetic mapping, which can be created using [`aes`](https://hail.is/docs/0.2/ggplot2/index.html#hail.ggplot2.aes). By default, the first argument to `aes` is `x`, and the second argument is `y`. Let's map the `idx` field of the data to our x-axis."
   ]
  },
  {
   "cell_type": "code",
   "execution_count": null,
   "id": "4bd3ce19",
   "metadata": {},
   "outputs": [],
   "source": [
    "from hail.ggplot2 import aes\n",
    "\n",
    "plot1 = plot + aes(data.idx)\n",
    "print(plot1)"
   ]
  },
  {
   "cell_type": "markdown",
   "id": "61505441",
   "metadata": {},
   "source": [
    "The creation of the plot object and the addition of the aesthetic mapping is often done in a single step, in which case the mapping can be passed as an argument to `ggplot`, instead of using the `+` operator:"
   ]
  },
  {
   "cell_type": "code",
   "execution_count": null,
   "id": "2e987fcc",
   "metadata": {},
   "outputs": [],
   "source": [
    "plot2 = ggplot(data, aes(data.idx))\n",
    "print(plot2)"
   ]
  },
  {
   "cell_type": "markdown",
   "id": "419a5e5d",
   "metadata": {},
   "source": [
    "TODO: color, shape"
   ]
  },
  {
   "cell_type": "markdown",
   "id": "bf0a8c93",
   "metadata": {},
   "source": [
    "## Displaying Plots\n",
    "\n",
    "Unlike R's `ggplot2`, `hail.ggplot2` doesn't render plots unless explicitly told to do so. Once we have added a layer with a visual component to our plot object (in this case, [`geom_histogram`](https://hail.is/docs/0.2/ggplot2/index.html#hail.ggplot2.geom_histogram)), we can display the plot using the [`show`](https://hail.is/docs/0.2/ggplot2/index.html#hail.ggplot2.show) method:"
   ]
  },
  {
   "cell_type": "code",
   "execution_count": null,
   "id": "9734d8ab",
   "metadata": {},
   "outputs": [],
   "source": [
    "from hail.ggplot2 import geom_histogram, show\n",
    "\n",
    "plot3 = plot2 + geom_histogram()\n",
    "show(plot3)"
   ]
  },
  {
   "cell_type": "markdown",
   "id": "825baee3",
   "metadata": {},
   "source": [
    "## Titles\n",
    "\n",
    "TODO"
   ]
  },
  {
   "cell_type": "markdown",
   "id": "8fdbe273",
   "metadata": {},
   "source": [
    "## Axis Labels\n",
    "\n",
    "TODO"
   ]
  },
  {
   "cell_type": "markdown",
   "id": "ecac1a01",
   "metadata": {},
   "source": [
    "## Geoms\n",
    "\n",
    "TODO: what are geoms (demo below for adding different ones to the same data, recommend this type of approach where you store the result in a variable every time you add something to it so you can change your mind really easily)"
   ]
  },
  {
   "cell_type": "code",
   "execution_count": null,
   "id": "257821d6",
   "metadata": {},
   "outputs": [],
   "source": [
    "from hail.ggplot2 import geom_point\n",
    "\n",
    "plot4 = plot2 + geom_point()\n",
    "show(plot4)"
   ]
  },
  {
   "cell_type": "markdown",
   "id": "c3d781bb",
   "metadata": {},
   "source": [
    "## Stats\n",
    "\n",
    "TODO: you may have noticed that some geoms, like histogram, implicitly compute some statistics about the data before rendering it. but what if you need to transform your data independently of a geom?\n",
    "\n",
    "TODO: stats are cached, so when you recompute them, the plot object will attempt to reuse the cached values of previously applied aggregations"
   ]
  },
  {
   "cell_type": "markdown",
   "id": "9f3b6784",
   "metadata": {},
   "source": [
    "## Scales\n",
    "\n",
    "TODO: what are scales"
   ]
  },
  {
   "cell_type": "markdown",
   "id": "74613547",
   "metadata": {},
   "source": [
    "## Facets\n",
    "\n",
    "TODO"
   ]
  },
  {
   "cell_type": "markdown",
   "id": "4c37a13e",
   "metadata": {},
   "source": [
    "## Examples\n",
    "\n",
    "### Histogram\n",
    "\n",
    "TODO: explain a bit about histograms\n",
    "\n",
    "We've already created a histogram [above](#Displaying-Plots). Let's take another look at it:"
   ]
  },
  {
   "cell_type": "code",
   "execution_count": null,
   "id": "c721e8ee",
   "metadata": {},
   "outputs": [],
   "source": [
    "show(plot3)"
   ]
  },
  {
   "cell_type": "markdown",
   "id": "d61e6bcc",
   "metadata": {},
   "source": [
    "TODO: talk about default settings\n",
    "\n",
    "We can specify the number of `bins` as an argument to `geom_histogram`:"
   ]
  },
  {
   "cell_type": "code",
   "execution_count": null,
   "id": "e3ee42ae",
   "metadata": {},
   "outputs": [],
   "source": [
    "plot4 = plot2 + geom_histogram(bins=50)\n",
    "show(plot4)"
   ]
  },
  {
   "cell_type": "markdown",
   "id": "bc860479",
   "metadata": {},
   "source": [
    "### Cumulative Histogram\n",
    "\n",
    "TODO"
   ]
  },
  {
   "cell_type": "markdown",
   "id": "ac2baeee",
   "metadata": {},
   "source": [
    "### 2D Histogram\n",
    "\n",
    "TODO"
   ]
  },
  {
   "cell_type": "markdown",
   "id": "b60781bf",
   "metadata": {},
   "source": [
    "### Scatter Plot\n",
    "\n",
    "TODO"
   ]
  },
  {
   "cell_type": "markdown",
   "id": "5b802442",
   "metadata": {},
   "source": [
    "### QQ Plot\n",
    "\n",
    "TODO: To create a quantile-quantile (QQ) plot, ..."
   ]
  },
  {
   "cell_type": "markdown",
   "id": "633d723b",
   "metadata": {},
   "source": [
    "### Manhattan Plot\n",
    "\n",
    "TODO (use actual genetics data)"
   ]
  }
 ],
 "metadata": {
  "kernelspec": {
   "display_name": "Python 3 (ipykernel)",
   "language": "python",
   "name": "python3"
  },
  "language_info": {
   "codemirror_mode": {
    "name": "ipython",
    "version": 3
   },
   "file_extension": ".py",
   "mimetype": "text/x-python",
   "name": "python",
   "nbconvert_exporter": "python",
   "pygments_lexer": "ipython3",
   "version": "3.9.12"
  }
 },
 "nbformat": 4,
 "nbformat_minor": 5
}
