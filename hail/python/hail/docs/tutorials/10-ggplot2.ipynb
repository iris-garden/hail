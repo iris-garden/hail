{
 "cells": [
  {
   "cell_type": "markdown",
   "id": "2bf2bf75",
   "metadata": {},
   "source": [
    "## Plotting with Hail\n",
    "\n",
    "The [`hail.ggplot2`](https://hail.is/docs/0.2/ggplot2/index.html) module provides a set of functions for aggregating and plotting your data. The module attempts to mimic the API of [R's `ggplot2` library](https://ggplot2.tidyverse.org) as closely as possible. The module displays plots using the [Vega-Altair](https://altair-viz.github.io/) library.\n",
    "\n",
    "On this page, you'll find examples of how to create some commonly-used plot types.\n",
    "\n",
    "First, we'll initialize Hail, and load in some example data from the [1000 Genomes Project](https://en.wikipedia.org/wiki/1000_Genomes_Project) as a [`MatrixTable`](https://hail.is/docs/0.2/hail.MatrixTable.html). We'll also add a couple example column fields using [`annotate_cols`](https://hail.is/docs/0.2/hail.MatrixTable.html#hail.MatrixTable.annotate_cols), and compute some statistics that are useful for quality control purposes using [`sample_qc`](https://hail.is/docs/0.2/methods/genetics.html#hail.methods.sample_qc)."
   ]
  },
  {
   "cell_type": "code",
   "execution_count": 2,
   "id": "1eb7bac2",
   "metadata": {
    "scrolled": true
   },
   "outputs": [
    {
     "ename": "Py4JError",
     "evalue": "An error occurred while calling z:is.hail.backend.spark.SparkBackend.apply. Trace:\npy4j.Py4JException: Method apply([null, class java.lang.String, null, class java.lang.String, class java.lang.Boolean, class java.lang.Integer, class java.lang.String, class java.lang.String, null, null]) does not exist\n\tat py4j.reflection.ReflectionEngine.getMethod(ReflectionEngine.java:318)\n\tat py4j.reflection.ReflectionEngine.getMethod(ReflectionEngine.java:339)\n\tat py4j.Gateway.invoke(Gateway.java:276)\n\tat py4j.commands.AbstractCommand.invokeMethod(AbstractCommand.java:132)\n\tat py4j.commands.CallCommand.execute(CallCommand.java:79)\n\tat py4j.ClientServerConnection.waitForCommands(ClientServerConnection.java:182)\n\tat py4j.ClientServerConnection.run(ClientServerConnection.java:106)\n\tat java.lang.Thread.run(Thread.java:750)\n\n",
     "output_type": "error",
     "traceback": [
      "\u001b[0;31m---------------------------------------------------------------------------\u001b[0m",
      "\u001b[0;31mPy4JError\u001b[0m                                 Traceback (most recent call last)",
      "Cell \u001b[0;32mIn [2], line 3\u001b[0m\n\u001b[1;32m      1\u001b[0m \u001b[38;5;28;01mimport\u001b[39;00m \u001b[38;5;21;01mhail\u001b[39;00m \u001b[38;5;28;01mas\u001b[39;00m \u001b[38;5;21;01mhl\u001b[39;00m\n\u001b[0;32m----> 3\u001b[0m \u001b[43mhl\u001b[49m\u001b[38;5;241;43m.\u001b[39;49m\u001b[43minit\u001b[49m\u001b[43m(\u001b[49m\u001b[43m)\u001b[49m\n\u001b[1;32m      4\u001b[0m hl\u001b[38;5;241m.\u001b[39mutils\u001b[38;5;241m.\u001b[39mget_1kg(\u001b[38;5;124m'\u001b[39m\u001b[38;5;124mdata/\u001b[39m\u001b[38;5;124m'\u001b[39m)\n\u001b[1;32m      6\u001b[0m data \u001b[38;5;241m=\u001b[39m hl\u001b[38;5;241m.\u001b[39mread_matrix_table(\u001b[38;5;124m'\u001b[39m\u001b[38;5;124mdata/1kg.mt\u001b[39m\u001b[38;5;124m'\u001b[39m)\n",
      "File \u001b[0;32m<decorator-gen-1756>:2\u001b[0m, in \u001b[0;36minit\u001b[0;34m(sc, app_name, master, local, log, quiet, append, min_block_size, branching_factor, tmp_dir, default_reference, idempotent, global_seed, spark_conf, skip_logging_configuration, local_tmpdir, _optimizer_iterations, backend, driver_cores, driver_memory, worker_cores, worker_memory, gcs_requester_pays_configuration)\u001b[0m\n",
      "File \u001b[0;32m~/src/hail/hail/python/hail/typecheck/check.py:577\u001b[0m, in \u001b[0;36m_make_dec.<locals>.wrapper\u001b[0;34m(__original_func, *args, **kwargs)\u001b[0m\n\u001b[1;32m    574\u001b[0m \u001b[38;5;129m@decorator\u001b[39m\n\u001b[1;32m    575\u001b[0m \u001b[38;5;28;01mdef\u001b[39;00m \u001b[38;5;21mwrapper\u001b[39m(__original_func, \u001b[38;5;241m*\u001b[39margs, \u001b[38;5;241m*\u001b[39m\u001b[38;5;241m*\u001b[39mkwargs):\n\u001b[1;32m    576\u001b[0m     args_, kwargs_ \u001b[38;5;241m=\u001b[39m check_all(__original_func, args, kwargs, checkers, is_method\u001b[38;5;241m=\u001b[39mis_method)\n\u001b[0;32m--> 577\u001b[0m     \u001b[38;5;28;01mreturn\u001b[39;00m \u001b[43m__original_func\u001b[49m\u001b[43m(\u001b[49m\u001b[38;5;241;43m*\u001b[39;49m\u001b[43margs_\u001b[49m\u001b[43m,\u001b[49m\u001b[43m \u001b[49m\u001b[38;5;241;43m*\u001b[39;49m\u001b[38;5;241;43m*\u001b[39;49m\u001b[43mkwargs_\u001b[49m\u001b[43m)\u001b[49m\n",
      "File \u001b[0;32m~/src/hail/hail/python/hail/context.py:365\u001b[0m, in \u001b[0;36minit\u001b[0;34m(sc, app_name, master, local, log, quiet, append, min_block_size, branching_factor, tmp_dir, default_reference, idempotent, global_seed, spark_conf, skip_logging_configuration, local_tmpdir, _optimizer_iterations, backend, driver_cores, driver_memory, worker_cores, worker_memory, gcs_requester_pays_configuration)\u001b[0m\n\u001b[1;32m    349\u001b[0m     \u001b[38;5;28;01mreturn\u001b[39;00m asyncio\u001b[38;5;241m.\u001b[39mget_event_loop()\u001b[38;5;241m.\u001b[39mrun_until_complete(init_batch(\n\u001b[1;32m    350\u001b[0m         log\u001b[38;5;241m=\u001b[39mlog,\n\u001b[1;32m    351\u001b[0m         quiet\u001b[38;5;241m=\u001b[39mquiet,\n\u001b[0;32m   (...)\u001b[0m\n\u001b[1;32m    362\u001b[0m         gcs_requester_pays_configuration\u001b[38;5;241m=\u001b[39mgcs_requester_pays_configuration\n\u001b[1;32m    363\u001b[0m     ))\n\u001b[1;32m    364\u001b[0m \u001b[38;5;28;01mif\u001b[39;00m backend \u001b[38;5;241m==\u001b[39m \u001b[38;5;124m'\u001b[39m\u001b[38;5;124mspark\u001b[39m\u001b[38;5;124m'\u001b[39m:\n\u001b[0;32m--> 365\u001b[0m     \u001b[38;5;28;01mreturn\u001b[39;00m \u001b[43minit_spark\u001b[49m\u001b[43m(\u001b[49m\n\u001b[1;32m    366\u001b[0m \u001b[43m        \u001b[49m\u001b[43msc\u001b[49m\u001b[38;5;241;43m=\u001b[39;49m\u001b[43msc\u001b[49m\u001b[43m,\u001b[49m\n\u001b[1;32m    367\u001b[0m \u001b[43m        \u001b[49m\u001b[43mapp_name\u001b[49m\u001b[38;5;241;43m=\u001b[39;49m\u001b[43mapp_name\u001b[49m\u001b[43m,\u001b[49m\n\u001b[1;32m    368\u001b[0m \u001b[43m        \u001b[49m\u001b[43mmaster\u001b[49m\u001b[38;5;241;43m=\u001b[39;49m\u001b[43mmaster\u001b[49m\u001b[43m,\u001b[49m\n\u001b[1;32m    369\u001b[0m \u001b[43m        \u001b[49m\u001b[43mlocal\u001b[49m\u001b[38;5;241;43m=\u001b[39;49m\u001b[43mlocal\u001b[49m\u001b[43m,\u001b[49m\n\u001b[1;32m    370\u001b[0m \u001b[43m        \u001b[49m\u001b[43mmin_block_size\u001b[49m\u001b[38;5;241;43m=\u001b[39;49m\u001b[43mmin_block_size\u001b[49m\u001b[43m,\u001b[49m\n\u001b[1;32m    371\u001b[0m \u001b[43m        \u001b[49m\u001b[43mbranching_factor\u001b[49m\u001b[38;5;241;43m=\u001b[39;49m\u001b[43mbranching_factor\u001b[49m\u001b[43m,\u001b[49m\n\u001b[1;32m    372\u001b[0m \u001b[43m        \u001b[49m\u001b[43mspark_conf\u001b[49m\u001b[38;5;241;43m=\u001b[39;49m\u001b[43mspark_conf\u001b[49m\u001b[43m,\u001b[49m\n\u001b[1;32m    373\u001b[0m \u001b[43m        \u001b[49m\u001b[43m_optimizer_iterations\u001b[49m\u001b[38;5;241;43m=\u001b[39;49m\u001b[43m_optimizer_iterations\u001b[49m\u001b[43m,\u001b[49m\n\u001b[1;32m    374\u001b[0m \u001b[43m        \u001b[49m\u001b[43mlog\u001b[49m\u001b[38;5;241;43m=\u001b[39;49m\u001b[43mlog\u001b[49m\u001b[43m,\u001b[49m\n\u001b[1;32m    375\u001b[0m \u001b[43m        \u001b[49m\u001b[43mquiet\u001b[49m\u001b[38;5;241;43m=\u001b[39;49m\u001b[43mquiet\u001b[49m\u001b[43m,\u001b[49m\n\u001b[1;32m    376\u001b[0m \u001b[43m        \u001b[49m\u001b[43mappend\u001b[49m\u001b[38;5;241;43m=\u001b[39;49m\u001b[43mappend\u001b[49m\u001b[43m,\u001b[49m\n\u001b[1;32m    377\u001b[0m \u001b[43m        \u001b[49m\u001b[43mtmp_dir\u001b[49m\u001b[38;5;241;43m=\u001b[39;49m\u001b[43mtmp_dir\u001b[49m\u001b[43m,\u001b[49m\n\u001b[1;32m    378\u001b[0m \u001b[43m        \u001b[49m\u001b[43mlocal_tmpdir\u001b[49m\u001b[38;5;241;43m=\u001b[39;49m\u001b[43mlocal_tmpdir\u001b[49m\u001b[43m,\u001b[49m\n\u001b[1;32m    379\u001b[0m \u001b[43m        \u001b[49m\u001b[43mdefault_reference\u001b[49m\u001b[38;5;241;43m=\u001b[39;49m\u001b[43mdefault_reference\u001b[49m\u001b[43m,\u001b[49m\n\u001b[1;32m    380\u001b[0m \u001b[43m        \u001b[49m\u001b[43mglobal_seed\u001b[49m\u001b[38;5;241;43m=\u001b[39;49m\u001b[43mglobal_seed\u001b[49m\u001b[43m,\u001b[49m\n\u001b[1;32m    381\u001b[0m \u001b[43m        \u001b[49m\u001b[43mskip_logging_configuration\u001b[49m\u001b[38;5;241;43m=\u001b[39;49m\u001b[43mskip_logging_configuration\u001b[49m\u001b[43m,\u001b[49m\n\u001b[1;32m    382\u001b[0m \u001b[43m        \u001b[49m\u001b[43mgcs_requester_pays_configuration\u001b[49m\u001b[38;5;241;43m=\u001b[39;49m\u001b[43mgcs_requester_pays_configuration\u001b[49m\n\u001b[1;32m    383\u001b[0m \u001b[43m    \u001b[49m\u001b[43m)\u001b[49m\n\u001b[1;32m    384\u001b[0m \u001b[38;5;28;01mif\u001b[39;00m backend \u001b[38;5;241m==\u001b[39m \u001b[38;5;124m'\u001b[39m\u001b[38;5;124mlocal\u001b[39m\u001b[38;5;124m'\u001b[39m:\n\u001b[1;32m    385\u001b[0m     \u001b[38;5;28;01mreturn\u001b[39;00m init_local(\n\u001b[1;32m    386\u001b[0m         log\u001b[38;5;241m=\u001b[39mlog,\n\u001b[1;32m    387\u001b[0m         quiet\u001b[38;5;241m=\u001b[39mquiet,\n\u001b[0;32m   (...)\u001b[0m\n\u001b[1;32m    393\u001b[0m         gcs_requester_pays_configuration\u001b[38;5;241m=\u001b[39mgcs_requester_pays_configuration\n\u001b[1;32m    394\u001b[0m     )\n",
      "File \u001b[0;32m<decorator-gen-1758>:2\u001b[0m, in \u001b[0;36minit_spark\u001b[0;34m(sc, app_name, master, local, log, quiet, append, min_block_size, branching_factor, tmp_dir, default_reference, idempotent, global_seed, spark_conf, skip_logging_configuration, local_tmpdir, _optimizer_iterations, gcs_requester_pays_configuration)\u001b[0m\n",
      "File \u001b[0;32m~/src/hail/hail/python/hail/typecheck/check.py:577\u001b[0m, in \u001b[0;36m_make_dec.<locals>.wrapper\u001b[0;34m(__original_func, *args, **kwargs)\u001b[0m\n\u001b[1;32m    574\u001b[0m \u001b[38;5;129m@decorator\u001b[39m\n\u001b[1;32m    575\u001b[0m \u001b[38;5;28;01mdef\u001b[39;00m \u001b[38;5;21mwrapper\u001b[39m(__original_func, \u001b[38;5;241m*\u001b[39margs, \u001b[38;5;241m*\u001b[39m\u001b[38;5;241m*\u001b[39mkwargs):\n\u001b[1;32m    576\u001b[0m     args_, kwargs_ \u001b[38;5;241m=\u001b[39m check_all(__original_func, args, kwargs, checkers, is_method\u001b[38;5;241m=\u001b[39mis_method)\n\u001b[0;32m--> 577\u001b[0m     \u001b[38;5;28;01mreturn\u001b[39;00m \u001b[43m__original_func\u001b[49m\u001b[43m(\u001b[49m\u001b[38;5;241;43m*\u001b[39;49m\u001b[43margs_\u001b[49m\u001b[43m,\u001b[49m\u001b[43m \u001b[49m\u001b[38;5;241;43m*\u001b[39;49m\u001b[38;5;241;43m*\u001b[39;49m\u001b[43mkwargs_\u001b[49m\u001b[43m)\u001b[49m\n",
      "File \u001b[0;32m~/src/hail/hail/python/hail/context.py:444\u001b[0m, in \u001b[0;36minit_spark\u001b[0;34m(sc, app_name, master, local, log, quiet, append, min_block_size, branching_factor, tmp_dir, default_reference, idempotent, global_seed, spark_conf, skip_logging_configuration, local_tmpdir, _optimizer_iterations, gcs_requester_pays_configuration)\u001b[0m\n\u001b[1;32m    442\u001b[0m app_name \u001b[38;5;241m=\u001b[39m app_name \u001b[38;5;129;01mor\u001b[39;00m \u001b[38;5;124m'\u001b[39m\u001b[38;5;124mHail\u001b[39m\u001b[38;5;124m'\u001b[39m\n\u001b[1;32m    443\u001b[0m gcs_requester_pays_project, gcs_requester_pays_buckets \u001b[38;5;241m=\u001b[39m convert_gcs_requester_pays_configuration_to_hadoop_conf_style(gcs_requester_pays_configuration)\n\u001b[0;32m--> 444\u001b[0m backend \u001b[38;5;241m=\u001b[39m \u001b[43mSparkBackend\u001b[49m\u001b[43m(\u001b[49m\n\u001b[1;32m    445\u001b[0m \u001b[43m    \u001b[49m\u001b[43midempotent\u001b[49m\u001b[43m,\u001b[49m\u001b[43m \u001b[49m\u001b[43msc\u001b[49m\u001b[43m,\u001b[49m\u001b[43m \u001b[49m\u001b[43mspark_conf\u001b[49m\u001b[43m,\u001b[49m\u001b[43m \u001b[49m\u001b[43mapp_name\u001b[49m\u001b[43m,\u001b[49m\u001b[43m \u001b[49m\u001b[43mmaster\u001b[49m\u001b[43m,\u001b[49m\u001b[43m \u001b[49m\u001b[43mlocal\u001b[49m\u001b[43m,\u001b[49m\u001b[43m \u001b[49m\u001b[43mlog\u001b[49m\u001b[43m,\u001b[49m\n\u001b[1;32m    446\u001b[0m \u001b[43m    \u001b[49m\u001b[43mquiet\u001b[49m\u001b[43m,\u001b[49m\u001b[43m \u001b[49m\u001b[43mappend\u001b[49m\u001b[43m,\u001b[49m\u001b[43m \u001b[49m\u001b[43mmin_block_size\u001b[49m\u001b[43m,\u001b[49m\u001b[43m \u001b[49m\u001b[43mbranching_factor\u001b[49m\u001b[43m,\u001b[49m\u001b[43m \u001b[49m\u001b[43mtmpdir\u001b[49m\u001b[43m,\u001b[49m\u001b[43m \u001b[49m\u001b[43mlocal_tmpdir\u001b[49m\u001b[43m,\u001b[49m\n\u001b[1;32m    447\u001b[0m \u001b[43m    \u001b[49m\u001b[43mskip_logging_configuration\u001b[49m\u001b[43m,\u001b[49m\u001b[43m \u001b[49m\u001b[43moptimizer_iterations\u001b[49m\u001b[43m,\u001b[49m\n\u001b[1;32m    448\u001b[0m \u001b[43m    \u001b[49m\u001b[43mgcs_requester_pays_project\u001b[49m\u001b[38;5;241;43m=\u001b[39;49m\u001b[43mgcs_requester_pays_project\u001b[49m\u001b[43m,\u001b[49m\n\u001b[1;32m    449\u001b[0m \u001b[43m    \u001b[49m\u001b[43mgcs_requester_pays_buckets\u001b[49m\u001b[38;5;241;43m=\u001b[39;49m\u001b[43mgcs_requester_pays_buckets\u001b[49m\n\u001b[1;32m    450\u001b[0m \u001b[43m\u001b[49m\u001b[43m)\u001b[49m\n\u001b[1;32m    451\u001b[0m \u001b[38;5;28;01mif\u001b[39;00m \u001b[38;5;129;01mnot\u001b[39;00m backend\u001b[38;5;241m.\u001b[39mfs\u001b[38;5;241m.\u001b[39mexists(tmpdir):\n\u001b[1;32m    452\u001b[0m     backend\u001b[38;5;241m.\u001b[39mfs\u001b[38;5;241m.\u001b[39mmkdir(tmpdir)\n",
      "File \u001b[0;32m~/src/hail/hail/python/hail/backend/spark_backend.py:188\u001b[0m, in \u001b[0;36mSparkBackend.__init__\u001b[0;34m(self, idempotent, sc, spark_conf, app_name, master, local, log, quiet, append, min_block_size, branching_factor, tmpdir, local_tmpdir, skip_logging_configuration, optimizer_iterations, gcs_requester_pays_project, gcs_requester_pays_buckets)\u001b[0m\n\u001b[1;32m    185\u001b[0m     \u001b[38;5;28mself\u001b[39m\u001b[38;5;241m.\u001b[39m_jhc \u001b[38;5;241m=\u001b[39m hail_package\u001b[38;5;241m.\u001b[39mHailContext\u001b[38;5;241m.\u001b[39mgetOrCreate(\n\u001b[1;32m    186\u001b[0m         \u001b[38;5;28mself\u001b[39m\u001b[38;5;241m.\u001b[39m_jbackend, log, \u001b[38;5;28;01mTrue\u001b[39;00m, append, branching_factor, skip_logging_configuration, optimizer_iterations)\n\u001b[1;32m    187\u001b[0m \u001b[38;5;28;01melse\u001b[39;00m:\n\u001b[0;32m--> 188\u001b[0m     \u001b[38;5;28mself\u001b[39m\u001b[38;5;241m.\u001b[39m_jbackend \u001b[38;5;241m=\u001b[39m \u001b[43mhail_package\u001b[49m\u001b[38;5;241;43m.\u001b[39;49m\u001b[43mbackend\u001b[49m\u001b[38;5;241;43m.\u001b[39;49m\u001b[43mspark\u001b[49m\u001b[38;5;241;43m.\u001b[39;49m\u001b[43mSparkBackend\u001b[49m\u001b[38;5;241;43m.\u001b[39;49m\u001b[43mapply\u001b[49m\u001b[43m(\u001b[49m\n\u001b[1;32m    189\u001b[0m \u001b[43m        \u001b[49m\u001b[43mjsc\u001b[49m\u001b[43m,\u001b[49m\u001b[43m \u001b[49m\u001b[43mapp_name\u001b[49m\u001b[43m,\u001b[49m\u001b[43m \u001b[49m\u001b[43mmaster\u001b[49m\u001b[43m,\u001b[49m\u001b[43m \u001b[49m\u001b[43mlocal\u001b[49m\u001b[43m,\u001b[49m\u001b[43m \u001b[49m\u001b[38;5;28;43;01mTrue\u001b[39;49;00m\u001b[43m,\u001b[49m\u001b[43m \u001b[49m\u001b[43mmin_block_size\u001b[49m\u001b[43m,\u001b[49m\u001b[43m \u001b[49m\u001b[43mtmpdir\u001b[49m\u001b[43m,\u001b[49m\u001b[43m \u001b[49m\u001b[43mlocal_tmpdir\u001b[49m\u001b[43m,\u001b[49m\n\u001b[1;32m    190\u001b[0m \u001b[43m        \u001b[49m\u001b[43mgcs_requester_pays_project\u001b[49m\u001b[43m,\u001b[49m\u001b[43m \u001b[49m\u001b[43mgcs_requester_pays_buckets\u001b[49m\u001b[43m)\u001b[49m\n\u001b[1;32m    191\u001b[0m     \u001b[38;5;28mself\u001b[39m\u001b[38;5;241m.\u001b[39m_jhc \u001b[38;5;241m=\u001b[39m hail_package\u001b[38;5;241m.\u001b[39mHailContext\u001b[38;5;241m.\u001b[39mapply(\n\u001b[1;32m    192\u001b[0m         \u001b[38;5;28mself\u001b[39m\u001b[38;5;241m.\u001b[39m_jbackend, log, \u001b[38;5;28;01mTrue\u001b[39;00m, append, branching_factor, skip_logging_configuration, optimizer_iterations)\n\u001b[1;32m    194\u001b[0m \u001b[38;5;28mself\u001b[39m\u001b[38;5;241m.\u001b[39m_jsc \u001b[38;5;241m=\u001b[39m \u001b[38;5;28mself\u001b[39m\u001b[38;5;241m.\u001b[39m_jbackend\u001b[38;5;241m.\u001b[39msc()\n",
      "File \u001b[0;32m~/miniconda3/lib/python3.9/site-packages/py4j/java_gateway.py:1321\u001b[0m, in \u001b[0;36mJavaMember.__call__\u001b[0;34m(self, *args)\u001b[0m\n\u001b[1;32m   1315\u001b[0m command \u001b[38;5;241m=\u001b[39m proto\u001b[38;5;241m.\u001b[39mCALL_COMMAND_NAME \u001b[38;5;241m+\u001b[39m\\\n\u001b[1;32m   1316\u001b[0m     \u001b[38;5;28mself\u001b[39m\u001b[38;5;241m.\u001b[39mcommand_header \u001b[38;5;241m+\u001b[39m\\\n\u001b[1;32m   1317\u001b[0m     args_command \u001b[38;5;241m+\u001b[39m\\\n\u001b[1;32m   1318\u001b[0m     proto\u001b[38;5;241m.\u001b[39mEND_COMMAND_PART\n\u001b[1;32m   1320\u001b[0m answer \u001b[38;5;241m=\u001b[39m \u001b[38;5;28mself\u001b[39m\u001b[38;5;241m.\u001b[39mgateway_client\u001b[38;5;241m.\u001b[39msend_command(command)\n\u001b[0;32m-> 1321\u001b[0m return_value \u001b[38;5;241m=\u001b[39m \u001b[43mget_return_value\u001b[49m\u001b[43m(\u001b[49m\n\u001b[1;32m   1322\u001b[0m \u001b[43m    \u001b[49m\u001b[43manswer\u001b[49m\u001b[43m,\u001b[49m\u001b[43m \u001b[49m\u001b[38;5;28;43mself\u001b[39;49m\u001b[38;5;241;43m.\u001b[39;49m\u001b[43mgateway_client\u001b[49m\u001b[43m,\u001b[49m\u001b[43m \u001b[49m\u001b[38;5;28;43mself\u001b[39;49m\u001b[38;5;241;43m.\u001b[39;49m\u001b[43mtarget_id\u001b[49m\u001b[43m,\u001b[49m\u001b[43m \u001b[49m\u001b[38;5;28;43mself\u001b[39;49m\u001b[38;5;241;43m.\u001b[39;49m\u001b[43mname\u001b[49m\u001b[43m)\u001b[49m\n\u001b[1;32m   1324\u001b[0m \u001b[38;5;28;01mfor\u001b[39;00m temp_arg \u001b[38;5;129;01min\u001b[39;00m temp_args:\n\u001b[1;32m   1325\u001b[0m     temp_arg\u001b[38;5;241m.\u001b[39m_detach()\n",
      "File \u001b[0;32m~/miniconda3/lib/python3.9/site-packages/py4j/protocol.py:330\u001b[0m, in \u001b[0;36mget_return_value\u001b[0;34m(answer, gateway_client, target_id, name)\u001b[0m\n\u001b[1;32m    326\u001b[0m         \u001b[38;5;28;01mraise\u001b[39;00m Py4JJavaError(\n\u001b[1;32m    327\u001b[0m             \u001b[38;5;124m\"\u001b[39m\u001b[38;5;124mAn error occurred while calling \u001b[39m\u001b[38;5;132;01m{0}\u001b[39;00m\u001b[38;5;132;01m{1}\u001b[39;00m\u001b[38;5;132;01m{2}\u001b[39;00m\u001b[38;5;124m.\u001b[39m\u001b[38;5;130;01m\\n\u001b[39;00m\u001b[38;5;124m\"\u001b[39m\u001b[38;5;241m.\u001b[39m\n\u001b[1;32m    328\u001b[0m             \u001b[38;5;28mformat\u001b[39m(target_id, \u001b[38;5;124m\"\u001b[39m\u001b[38;5;124m.\u001b[39m\u001b[38;5;124m\"\u001b[39m, name), value)\n\u001b[1;32m    329\u001b[0m     \u001b[38;5;28;01melse\u001b[39;00m:\n\u001b[0;32m--> 330\u001b[0m         \u001b[38;5;28;01mraise\u001b[39;00m Py4JError(\n\u001b[1;32m    331\u001b[0m             \u001b[38;5;124m\"\u001b[39m\u001b[38;5;124mAn error occurred while calling \u001b[39m\u001b[38;5;132;01m{0}\u001b[39;00m\u001b[38;5;132;01m{1}\u001b[39;00m\u001b[38;5;132;01m{2}\u001b[39;00m\u001b[38;5;124m. Trace:\u001b[39m\u001b[38;5;130;01m\\n\u001b[39;00m\u001b[38;5;132;01m{3}\u001b[39;00m\u001b[38;5;130;01m\\n\u001b[39;00m\u001b[38;5;124m\"\u001b[39m\u001b[38;5;241m.\u001b[39m\n\u001b[1;32m    332\u001b[0m             \u001b[38;5;28mformat\u001b[39m(target_id, \u001b[38;5;124m\"\u001b[39m\u001b[38;5;124m.\u001b[39m\u001b[38;5;124m\"\u001b[39m, name, value))\n\u001b[1;32m    333\u001b[0m \u001b[38;5;28;01melse\u001b[39;00m:\n\u001b[1;32m    334\u001b[0m     \u001b[38;5;28;01mraise\u001b[39;00m Py4JError(\n\u001b[1;32m    335\u001b[0m         \u001b[38;5;124m\"\u001b[39m\u001b[38;5;124mAn error occurred while calling \u001b[39m\u001b[38;5;132;01m{0}\u001b[39;00m\u001b[38;5;132;01m{1}\u001b[39;00m\u001b[38;5;132;01m{2}\u001b[39;00m\u001b[38;5;124m\"\u001b[39m\u001b[38;5;241m.\u001b[39m\n\u001b[1;32m    336\u001b[0m         \u001b[38;5;28mformat\u001b[39m(target_id, \u001b[38;5;124m\"\u001b[39m\u001b[38;5;124m.\u001b[39m\u001b[38;5;124m\"\u001b[39m, name))\n",
      "\u001b[0;31mPy4JError\u001b[0m: An error occurred while calling z:is.hail.backend.spark.SparkBackend.apply. Trace:\npy4j.Py4JException: Method apply([null, class java.lang.String, null, class java.lang.String, class java.lang.Boolean, class java.lang.Integer, class java.lang.String, class java.lang.String, null, null]) does not exist\n\tat py4j.reflection.ReflectionEngine.getMethod(ReflectionEngine.java:318)\n\tat py4j.reflection.ReflectionEngine.getMethod(ReflectionEngine.java:339)\n\tat py4j.Gateway.invoke(Gateway.java:276)\n\tat py4j.commands.AbstractCommand.invokeMethod(AbstractCommand.java:132)\n\tat py4j.commands.CallCommand.execute(CallCommand.java:79)\n\tat py4j.ClientServerConnection.waitForCommands(ClientServerConnection.java:182)\n\tat py4j.ClientServerConnection.run(ClientServerConnection.java:106)\n\tat java.lang.Thread.run(Thread.java:750)\n\n"
     ]
    }
   ],
   "source": [
    "import hail as hl\n",
    "\n",
    "hl.init()\n",
    "hl.utils.get_1kg('data/')\n",
    "\n",
    "data = hl.read_matrix_table('data/1kg.mt')\n",
    "data = hl.sample_qc(\n",
    "    data.annotate_cols(\n",
    "        **hl.import_table('data/1kg_annotations.txt', impute=True).key_by('Sample')[data.s]\n",
    "    )\n",
    ")\n",
    "\n",
    "mt.describe()"
   ]
  },
  {
   "cell_type": "markdown",
   "id": "860d0a3a",
   "metadata": {},
   "source": [
    "### Histogram\n",
    "\n",
    "The `histogram()` method takes as an argument an aggregated hist expression, as well as optional arguments for the legend and title of the plot."
   ]
  },
  {
   "cell_type": "code",
   "execution_count": null,
   "id": "c721e8ee",
   "metadata": {},
   "outputs": [],
   "source": [
    "ggplot(mpg, aes(hwy)) + geom_histogram()"
   ]
  },
  {
   "cell_type": "code",
   "execution_count": null,
   "id": "4fd84d69",
   "metadata": {},
   "outputs": [],
   "source": [
    "dp_hist = mt.aggregate_entries(hl.expr.aggregators.hist(mt.DP, 0, 30, 30))\n",
    "p = hl.plot.histogram(dp_hist, legend='DP', title='DP Histogram')\n",
    "show(p)"
   ]
  },
  {
   "cell_type": "markdown",
   "id": "51f236ed",
   "metadata": {},
   "source": [
    "This method, like all Hail plotting methods, also allows us to pass in fields of our data set directly. Choosing not to specify the `range` and `bins` arguments would result in a range being computed based on the largest and smallest values in the dataset and a default bins value of 50."
   ]
  },
  {
   "cell_type": "code",
   "execution_count": null,
   "id": "99c2dbf0",
   "metadata": {},
   "outputs": [],
   "source": [
    "p = hl.plot.histogram(mt.DP, range=(0, 30), bins=30)\n",
    "show(p)"
   ]
  },
  {
   "cell_type": "markdown",
   "id": "8707fc74",
   "metadata": {},
   "source": [
    "### Cumulative Histogram\n",
    "\n",
    "The `cumulative_histogram()` method works in a similar way to `histogram()`."
   ]
  },
  {
   "cell_type": "code",
   "execution_count": null,
   "id": "313c8f70",
   "metadata": {},
   "outputs": [],
   "source": [
    "p = hl.plot.cumulative_histogram(mt.DP, range=(0,30), bins=30)\n",
    "show(p)"
   ]
  },
  {
   "cell_type": "markdown",
   "id": "1ecc9f9e",
   "metadata": {},
   "source": [
    "### Scatter\n",
    "\n",
    "The `scatter()` method can also take in either Python types or Hail fields as arguments for x and y."
   ]
  },
  {
   "cell_type": "code",
   "execution_count": null,
   "id": "16c20701",
   "metadata": {},
   "outputs": [],
   "source": [
    "p = hl.plot.scatter(mt.sample_qc.dp_stats.mean, mt.sample_qc.call_rate, xlabel='Mean DP', ylabel='Call Rate')\n",
    "show(p)"
   ]
  },
  {
   "cell_type": "markdown",
   "id": "4b403437",
   "metadata": {},
   "source": [
    "We can also pass in a Hail field as a `label` argument, which determines how to color the data points."
   ]
  },
  {
   "cell_type": "code",
   "execution_count": null,
   "id": "f3b4c1cd",
   "metadata": {},
   "outputs": [],
   "source": [
    "mt = mt.filter_cols((mt.sample_qc.dp_stats.mean >= 4) & (mt.sample_qc.call_rate >= 0.97))\n",
    "ab = mt.AD[1] / hl.sum(mt.AD)\n",
    "filter_condition_ab = ((mt.GT.is_hom_ref() & (ab <= 0.1)) |\n",
    "                        (mt.GT.is_het() & (ab >= 0.25) & (ab <= 0.75)) |\n",
    "                        (mt.GT.is_hom_var() & (ab >= 0.9)))\n",
    "mt = mt.filter_entries(filter_condition_ab)\n",
    "mt = hl.variant_qc(mt).cache()\n",
    "common_mt = mt.filter_rows(mt.variant_qc.AF[1] > 0.01)\n",
    "gwas = hl.linear_regression_rows(y=common_mt.CaffeineConsumption, x=common_mt.GT.n_alt_alleles(), covariates=[1.0])\n",
    "pca_eigenvalues, pca_scores, _ = hl.hwe_normalized_pca(common_mt.GT)"
   ]
  },
  {
   "cell_type": "code",
   "execution_count": null,
   "id": "d15e31e2",
   "metadata": {},
   "outputs": [],
   "source": [
    "p = hl.plot.scatter(pca_scores.scores[0], pca_scores.scores[1],\n",
    "                    label=common_mt.cols()[pca_scores.s].SuperPopulation,\n",
    "                    title='PCA', xlabel='PC1', ylabel='PC2', collect_all=True)\n",
    "show(p)"
   ]
  },
  {
   "cell_type": "markdown",
   "id": "1d01b78d",
   "metadata": {},
   "source": [
    "Hail's downsample aggregator is incorporated into the `scatter()`, `qq()`, and `manhattan()` functions. The `collect_all` parameter tells the plot function whether to collect all values or downsample. Choosing not to set this parameter results in downsampling."
   ]
  },
  {
   "cell_type": "code",
   "execution_count": null,
   "id": "17bf0064",
   "metadata": {},
   "outputs": [],
   "source": [
    "p2 = hl.plot.scatter(pca_scores.scores[0], pca_scores.scores[1],\n",
    "                    label=common_mt.cols()[pca_scores.s].SuperPopulation,\n",
    "                    title='PCA (downsampled)', xlabel='PC1', ylabel='PC2', collect_all=False, n_divisions=50)\n",
    "\n",
    "show(gridplot([p, p2], ncols=2, plot_width=400, plot_height=400))"
   ]
  },
  {
   "cell_type": "markdown",
   "id": "40163716",
   "metadata": {},
   "source": [
    "### 2-D histogram\n",
    "\n",
    "For visualizing relationships between variables in large datasets (where scatter plots may be less informative since they highlight outliers), the `histogram_2d()` function will create a heatmap with the number of observations in each section of a 2-d grid based on two variables."
   ]
  },
  {
   "cell_type": "code",
   "execution_count": null,
   "id": "7eecf30a",
   "metadata": {},
   "outputs": [],
   "source": [
    "p = hl.plot.histogram2d(pca_scores.scores[0], pca_scores.scores[1])\n",
    "show(p)"
   ]
  },
  {
   "cell_type": "markdown",
   "id": "01155af3",
   "metadata": {},
   "source": [
    "### Q-Q (Quantile-Quantile)\n",
    "\n",
    "The `qq()` function requires either a Python type or a Hail field containing p-values to be plotted. This function also allows for downsampling."
   ]
  },
  {
   "cell_type": "code",
   "execution_count": null,
   "id": "0f2f9e23",
   "metadata": {},
   "outputs": [],
   "source": [
    "p = hl.plot.qq(gwas.p_value, collect_all=True)\n",
    "p2 = hl.plot.qq(gwas.p_value, n_divisions=75)\n",
    "\n",
    "show(gridplot([p, p2], ncols=2, plot_width=400, plot_height=400))"
   ]
  },
  {
   "cell_type": "markdown",
   "id": "2d3f2e75",
   "metadata": {},
   "source": [
    "### Manhattan\n",
    "\n",
    "The `manhattan()` function requires a Hail field containing p-values."
   ]
  },
  {
   "cell_type": "code",
   "execution_count": null,
   "id": "eadad0d0",
   "metadata": {},
   "outputs": [],
   "source": [
    "p = hl.plot.manhattan(gwas.p_value)\n",
    "show(p)"
   ]
  },
  {
   "cell_type": "markdown",
   "id": "b188b8bc",
   "metadata": {},
   "source": [
    "We can also pass in a dictionary of fields that we would like to show up as we hover over a data point, and choose not to downsample if the dataset is relatively small."
   ]
  },
  {
   "cell_type": "code",
   "execution_count": null,
   "id": "3d1e8227",
   "metadata": {},
   "outputs": [],
   "source": [
    "hover_fields = dict([('alleles', gwas.alleles)])\n",
    "p = hl.plot.manhattan(gwas.p_value, hover_fields=hover_fields, collect_all=True)\n",
    "show(p)"
   ]
  },
  {
   "cell_type": "markdown",
   "id": "d30bd868",
   "metadata": {},
   "source": [
    "## GGPlot Tutorial\n"
   ]
  },
  {
   "cell_type": "code",
   "execution_count": null,
   "id": "popular-budapest",
   "metadata": {},
   "outputs": [],
   "source": [
    "import hail as hl\n",
    "from hail.ggplot import *\n",
    "\n",
    "import plotly\n",
    "import plotly.io as pio\n",
    "pio.renderers.default='iframe'"
   ]
  },
  {
   "cell_type": "markdown",
   "id": "controlling-class",
   "metadata": {},
   "source": [
    "The Hail team has implemented a plotting module for hail based on the very popular `ggplot2` package from R's tidyverse. That library is very fully featured and we will never be quite as flexible as it, but with just a subset of its functionality we can make highly customizable plots."
   ]
  },
  {
   "cell_type": "markdown",
   "id": "literary-geology",
   "metadata": {},
   "source": [
    "### The Grammar of Graphics\n",
    "\n",
    "The key idea here is that there's not one magic function to make the plot you want. Plots are built up from a set of core primitives that allow for extensive customization. Let's start with an example. We are going to plot y = x^2 for x from 0 to 10. First we make a hail table representing that data:"
   ]
  },
  {
   "cell_type": "code",
   "execution_count": null,
   "id": "opponent-financing",
   "metadata": {},
   "outputs": [],
   "source": [
    "ht = hl.utils.range_table(10)\n",
    "ht = ht.annotate(squared = ht.idx**2)"
   ]
  },
  {
   "cell_type": "markdown",
   "id": "floppy-dodge",
   "metadata": {},
   "source": [
    "Every plot starts with a call to `ggplot`, and then requires adding a `geom` to specify what kind of plot you'd like to create."
   ]
  },
  {
   "cell_type": "code",
   "execution_count": null,
   "id": "negative-chart",
   "metadata": {},
   "outputs": [],
   "source": [
    "fig = ggplot(ht, aes(x=ht.idx, y=ht.squared)) + geom_line()\n",
    "fig.show()"
   ]
  },
  {
   "cell_type": "markdown",
   "id": "elect-warner",
   "metadata": {},
   "source": [
    "`aes` creates an \"aesthetic mapping\", which maps hail expressions to aspects of the plot. There is a predefined list of aesthetics supported by every `geom`. Most take an `x` and `y` at least. \n",
    "\n",
    "With this interface, it's easy to change out our plotting representation separate from our data. We can plot bars:"
   ]
  },
  {
   "cell_type": "code",
   "execution_count": null,
   "id": "innovative-peninsula",
   "metadata": {},
   "outputs": [],
   "source": [
    "fig = ggplot(ht, aes(x=ht.idx, y=ht.squared)) + geom_col()\n",
    "fig.show()"
   ]
  },
  {
   "cell_type": "markdown",
   "id": "sustained-brook",
   "metadata": {},
   "source": [
    "Or points:"
   ]
  },
  {
   "cell_type": "code",
   "execution_count": null,
   "id": "random-inquiry",
   "metadata": {},
   "outputs": [],
   "source": [
    "fig = ggplot(ht, aes(x=ht.idx, y=ht.squared)) + geom_point()\n",
    "fig.show()"
   ]
  },
  {
   "cell_type": "markdown",
   "id": "skilled-tiger",
   "metadata": {},
   "source": [
    "There are optional aesthetics too. If we want, we could color the points based on whether they're even or odd:"
   ]
  },
  {
   "cell_type": "code",
   "execution_count": null,
   "id": "spatial-camera",
   "metadata": {},
   "outputs": [],
   "source": [
    "fig = ggplot(ht, aes(x=ht.idx, y=ht.squared, color=hl.if_else(ht.idx % 2 == 0, \"even\", \"odd\"))) + geom_point()\n",
    "fig.show()"
   ]
  },
  {
   "cell_type": "markdown",
   "id": "blessed-brighton",
   "metadata": {},
   "source": [
    "Note that the `color` aesthetic by default just takes in an expression that evaluates to strings, and it assigns a discrete color to each string.\n",
    "\n",
    "Say we wanted to plot the line with the colored points overlayed on top of it. We could try:"
   ]
  },
  {
   "cell_type": "code",
   "execution_count": null,
   "id": "middle-nirvana",
   "metadata": {},
   "outputs": [],
   "source": [
    "fig = (ggplot(ht, aes(x=ht.idx, y=ht.squared, color=hl.if_else(ht.idx % 2 == 0, \"even\", \"odd\"))) + \n",
    "       geom_line() + \n",
    "       geom_point() \n",
    "      )\n",
    "fig.show()"
   ]
  },
  {
   "cell_type": "markdown",
   "id": "material-empire",
   "metadata": {},
   "source": [
    "But that is coloring the line as well, causing us to end up with interlocking blue and orange lines, which isn't what we want. For that reason, it's possible to define aesthetics that only apply to certain geoms."
   ]
  },
  {
   "cell_type": "code",
   "execution_count": null,
   "id": "activated-apollo",
   "metadata": {},
   "outputs": [],
   "source": [
    "fig = (ggplot(ht, aes(x=ht.idx, y=ht.squared)) + \n",
    "       geom_line() + \n",
    "       geom_point(aes(color=hl.if_else(ht.idx % 2 == 0, \"even\", \"odd\"))) \n",
    "      )\n",
    "fig.show()"
   ]
  },
  {
   "cell_type": "markdown",
   "id": "australian-paradise",
   "metadata": {},
   "source": [
    "All geoms can take in their own aesthetic mapping, which lets them specify aesthetics specific to them. And `geom_point` still inherits the `x` and `y` aesthetics from the mapping defined in `ggplot()`."
   ]
  },
  {
   "cell_type": "markdown",
   "id": "animal-cleveland",
   "metadata": {},
   "source": [
    "### Geoms that group\n",
    "\n",
    "Some geoms implicitly do an aggregation based on the `x` aesthetic, and so don't take a `y` value. Consider this dataset from gapminder with information about countries around the world, with one datapoint taken per country in the years 1952, 1957, 1962, 1967, 1972, 1977, 1982, 1987, 1992, 1997, 2002, and 2007."
   ]
  },
  {
   "cell_type": "code",
   "execution_count": null,
   "id": "cardiovascular-paraguay",
   "metadata": {},
   "outputs": [],
   "source": [
    "gp = hl.Table.from_pandas(plotly.data.gapminder())\n",
    "gp.describe()"
   ]
  },
  {
   "cell_type": "markdown",
   "id": "democratic-proxy",
   "metadata": {},
   "source": [
    "Let's filter the data to 2007 for our first experiments"
   ]
  },
  {
   "cell_type": "code",
   "execution_count": null,
   "id": "identical-living",
   "metadata": {},
   "outputs": [],
   "source": [
    "gp_2007 = gp.filter(gp.year == 2007)"
   ]
  },
  {
   "cell_type": "markdown",
   "id": "sharp-honey",
   "metadata": {},
   "source": [
    "If we want to see how many countries from each continent we have, we can use `geom_bar`, which just takes in an x aesthetic and then implicitly counts how many values of each x there are."
   ]
  },
  {
   "cell_type": "code",
   "execution_count": null,
   "id": "historic-navigation",
   "metadata": {},
   "outputs": [],
   "source": [
    "ggplot(gp_2007, aes(x=gp_2007.continent)) + geom_bar()"
   ]
  },
  {
   "cell_type": "markdown",
   "id": "dental-democrat",
   "metadata": {},
   "source": [
    "To make it a little prettier, let's color per continent as well. We use `fill` to specify color of shapes (as opposed to `color` for points and lines. `color` on a bar chart sets the color of the bar outline.)"
   ]
  },
  {
   "cell_type": "code",
   "execution_count": null,
   "id": "religious-latvia",
   "metadata": {},
   "outputs": [],
   "source": [
    "ggplot(gp_2007, aes(x=gp_2007.continent)) + geom_bar(aes(fill=gp_2007.continent))"
   ]
  },
  {
   "cell_type": "markdown",
   "id": "powerful-jesus",
   "metadata": {},
   "source": [
    "Maybe we instead want to see not the number of countries per continent, but the number of people living on each continent. We can do this with `geom_bar` as well by specifying a weight."
   ]
  },
  {
   "cell_type": "code",
   "execution_count": null,
   "id": "prescription-worry",
   "metadata": {},
   "outputs": [],
   "source": [
    "ggplot(gp_2007, aes(x=gp_2007.continent)) + geom_bar(aes(fill=gp_2007.continent, weight=gp_2007.pop))"
   ]
  },
  {
   "cell_type": "markdown",
   "id": "turned-convenience",
   "metadata": {},
   "source": [
    "Histograms are similar to bar plots, except they break a continuous x axis into bins. Let's import the `iris` dataset for this.\n"
   ]
  },
  {
   "cell_type": "code",
   "execution_count": null,
   "id": "collective-parts",
   "metadata": {},
   "outputs": [],
   "source": [
    "iris = hl.Table.from_pandas(plotly.data.iris())\n",
    "iris.describe()"
   ]
  },
  {
   "cell_type": "markdown",
   "id": "julian-blank",
   "metadata": {},
   "source": [
    "Let's make a histogram:"
   ]
  },
  {
   "cell_type": "code",
   "execution_count": null,
   "id": "private-preliminary",
   "metadata": {},
   "outputs": [],
   "source": [
    "ggplot(iris, aes(x=iris.sepal_length, fill=iris.species)) + geom_histogram()"
   ]
  },
  {
   "cell_type": "markdown",
   "id": "australian-explosion",
   "metadata": {},
   "source": [
    "By default histogram plots groups stacked on top of each other, which is not always easy to interpret. We can specify the `position` argument to histogram to get different behavior. `\"dodge\"` puts the bars next to each other:"
   ]
  },
  {
   "cell_type": "code",
   "execution_count": null,
   "id": "needed-skirt",
   "metadata": {},
   "outputs": [],
   "source": [
    "ggplot(iris, aes(x=iris.sepal_length, fill=iris.species)) + geom_histogram(position=\"dodge\")"
   ]
  },
  {
   "cell_type": "markdown",
   "id": "continental-compatibility",
   "metadata": {},
   "source": [
    "And `\"identity\"` plots them over each other. It helps to set an `alpha` value to make them slightly transparent in these cases"
   ]
  },
  {
   "cell_type": "code",
   "execution_count": null,
   "id": "sensitive-vertical",
   "metadata": {},
   "outputs": [],
   "source": [
    "ggplot(iris, aes(x=iris.sepal_length, fill=iris.species)) + geom_histogram(position=\"identity\", alpha=0.8)"
   ]
  },
  {
   "cell_type": "markdown",
   "id": "equal-munich",
   "metadata": {},
   "source": [
    "### Labels and Axes\n",
    "\n",
    "It's always a good idea to label your axes. This can be done most easily with `xlab` and `ylab`. We can also use `ggtitle` to add a title. Let's pull in the same plot from above, and add labels."
   ]
  },
  {
   "cell_type": "code",
   "execution_count": null,
   "id": "falling-gallery",
   "metadata": {},
   "outputs": [],
   "source": [
    "(ggplot(iris, aes(x=iris.sepal_length, fill=iris.species)) + \n",
    " geom_histogram(position=\"identity\", alpha=0.8) + \n",
    " xlab(\"Sepal Length\") + ylab(\"Number of samples\") + ggtitle(\"Sepal length by flower type\")\n",
    ")"
   ]
  }
 ],
 "metadata": {
  "kernelspec": {
   "display_name": "Python 3 (ipykernel)",
   "language": "python",
   "name": "python3"
  },
  "language_info": {
   "codemirror_mode": {
    "name": "ipython",
    "version": 3
   },
   "file_extension": ".py",
   "mimetype": "text/x-python",
   "name": "python",
   "nbconvert_exporter": "python",
   "pygments_lexer": "ipython3",
   "version": "3.9.12"
  }
 },
 "nbformat": 4,
 "nbformat_minor": 5
}
